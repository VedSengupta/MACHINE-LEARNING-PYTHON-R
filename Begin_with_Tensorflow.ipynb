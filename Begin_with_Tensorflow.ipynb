{
  "nbformat": 4,
  "nbformat_minor": 0,
  "metadata": {
    "colab": {
      "name": "Untitled9.ipynb",
      "version": "0.3.2",
      "provenance": [],
      "include_colab_link": true
    },
    "kernelspec": {
      "name": "python3",
      "display_name": "Python 3"
    }
  },
  "cells": [
    {
      "cell_type": "markdown",
      "metadata": {
        "id": "view-in-github",
        "colab_type": "text"
      },
      "source": [
        "[View in Colaboratory](https://colab.research.google.com/github/VedSengupta/MACHINE-LEARNING-PYTHON-R/blob/VED/Begin_with_Tensorflow.ipynb)"
      ]
    },
    {
      "metadata": {
        "id": "xnfgJMiqjtdH",
        "colab_type": "code",
        "colab": {}
      },
      "cell_type": "code",
      "source": [
        "import tensorflow as tf\n",
        "import numpy as np\n",
        "import matplotlib.pyplot as plt\n",
        "#!pip install matplotlib"
      ],
      "execution_count": 0,
      "outputs": []
    },
    {
      "metadata": {
        "id": "a5vofF8ukD0c",
        "colab_type": "code",
        "colab": {
          "base_uri": "https://localhost:8080/",
          "height": 34
        },
        "outputId": "3e2e50ee-6900-449c-8bcf-6d89d8b16206"
      },
      "cell_type": "code",
      "source": [
        "#a tensor is a muti-dimensional array\n",
        "#tf.constant allows tensor to have a constant value\n",
        "t1=tf.constant(2.0,dtype=tf.float32,name='ved')\n",
        "print(t1)"
      ],
      "execution_count": 110,
      "outputs": [
        {
          "output_type": "stream",
          "text": [
            "Tensor(\"ved_5:0\", shape=(), dtype=float32)\n"
          ],
          "name": "stdout"
        }
      ]
    },
    {
      "metadata": {
        "id": "MTcWe2BSkkzp",
        "colab_type": "code",
        "colab": {
          "base_uri": "https://localhost:8080/",
          "height": 34
        },
        "outputId": "743dd13f-10b3-44cb-d832-429bf7ee2b09"
      },
      "cell_type": "code",
      "source": [
        "#1D tensor\n",
        "t2=tf.constant([0,1,2],dtype=tf.float32,name='1D')\n",
        "print(t2)"
      ],
      "execution_count": 111,
      "outputs": [
        {
          "output_type": "stream",
          "text": [
            "Tensor(\"1D_4:0\", shape=(3,), dtype=float32)\n"
          ],
          "name": "stdout"
        }
      ]
    },
    {
      "metadata": {
        "id": "YiY5keDYlw9w",
        "colab_type": "code",
        "colab": {
          "base_uri": "https://localhost:8080/",
          "height": 34
        },
        "outputId": "e01af4ef-bcd9-43d5-e6ac-920ff82f29e6"
      },
      "cell_type": "code",
      "source": [
        "#a Session in tensorflow\n",
        "sess=tf.Session()\n",
        "print(sess.run(t1))"
      ],
      "execution_count": 112,
      "outputs": [
        {
          "output_type": "stream",
          "text": [
            "2.0\n"
          ],
          "name": "stdout"
        }
      ]
    },
    {
      "metadata": {
        "id": "-YU0V0CqkMi5",
        "colab_type": "code",
        "colab": {
          "base_uri": "https://localhost:8080/",
          "height": 34
        },
        "outputId": "4e4c1a5e-69f2-45cd-91fd-d87c9ecffa60"
      },
      "cell_type": "code",
      "source": [
        "sess.run(t2)\n",
        "print(sess.run(t2))"
      ],
      "execution_count": 113,
      "outputs": [
        {
          "output_type": "stream",
          "text": [
            "[0. 1. 2.]\n"
          ],
          "name": "stdout"
        }
      ]
    },
    {
      "metadata": {
        "id": "OpRmIBHZmM5a",
        "colab_type": "code",
        "colab": {
          "base_uri": "https://localhost:8080/",
          "height": 68
        },
        "outputId": "e535d402-0d5a-4deb-a702-2691320b1d57"
      },
      "cell_type": "code",
      "source": [
        "t3=tf.constant([[1,2,3],[4,5,6]],dtype=tf.float32,name='2D')\n",
        "print(sess.run(t3))\n",
        "print(t3)"
      ],
      "execution_count": 114,
      "outputs": [
        {
          "output_type": "stream",
          "text": [
            "[[1. 2. 3.]\n",
            " [4. 5. 6.]]\n",
            "Tensor(\"2D_6:0\", shape=(2, 3), dtype=float32)\n"
          ],
          "name": "stdout"
        }
      ]
    },
    {
      "metadata": {
        "id": "EQPUIKMCmovT",
        "colab_type": "code",
        "colab": {}
      },
      "cell_type": "code",
      "source": [
        "#call close() to close a session\n",
        "sess.close()"
      ],
      "execution_count": 0,
      "outputs": []
    },
    {
      "metadata": {
        "id": "sJMO8_77m6O-",
        "colab_type": "code",
        "colab": {
          "base_uri": "https://localhost:8080/",
          "height": 85
        },
        "outputId": "521b8ca8-7f14-4e27-d4b5-de8785ae45ca"
      },
      "cell_type": "code",
      "source": [
        "#iterative call of sessions\n",
        "with tf.Session() as sess:\n",
        "  print(sess.run(t1))\n",
        "  print(sess.run(t2))\n",
        "  print(sess.run(t3))\n",
        "sess.close()"
      ],
      "execution_count": 116,
      "outputs": [
        {
          "output_type": "stream",
          "text": [
            "2.0\n",
            "[0. 1. 2.]\n",
            "[[1. 2. 3.]\n",
            " [4. 5. 6.]]\n"
          ],
          "name": "stdout"
        }
      ]
    },
    {
      "metadata": {
        "id": "iFt3RimlnIKo",
        "colab_type": "code",
        "colab": {
          "base_uri": "https://localhost:8080/",
          "height": 51
        },
        "outputId": "192f27f1-bbce-4a23-d111-783b7c7f11e6"
      },
      "cell_type": "code",
      "source": [
        "#computational graph\n",
        "node_1=tf.constant(1.0,dtype=tf.float32,name='leaf_node1')\n",
        "node_2=tf.constant(2.0,dtype=tf.float32,name='leaf_node2')\n",
        "node_3=tf.constant(3.0,dtype=tf.float32,name='leaf_node3')\n",
        "\n",
        "cg_1=(node_1+node_2)*node_3\n",
        "print(cg_1)\n",
        "\n",
        "#alternatively\n",
        "\n",
        "cg_1_1=tf.multiply(tf.add(node_1,node_2),node_3)\n",
        "print(cg_1_1)"
      ],
      "execution_count": 117,
      "outputs": [
        {
          "output_type": "stream",
          "text": [
            "Tensor(\"mul_28:0\", shape=(), dtype=float32)\n",
            "Tensor(\"Mul_29:0\", shape=(), dtype=float32)\n"
          ],
          "name": "stdout"
        }
      ]
    },
    {
      "metadata": {
        "id": "lhFi942Xoyev",
        "colab_type": "code",
        "colab": {
          "base_uri": "https://localhost:8080/",
          "height": 51
        },
        "outputId": "38e5dcb2-d72b-41e3-d79e-97212f916b28"
      },
      "cell_type": "code",
      "source": [
        "with tf.Session() as sess:\n",
        "  print(sess.run(cg_1))\n",
        "  print(sess.run(cg_1_1))"
      ],
      "execution_count": 118,
      "outputs": [
        {
          "output_type": "stream",
          "text": [
            "9.0\n",
            "9.0\n"
          ],
          "name": "stdout"
        }
      ]
    },
    {
      "metadata": {
        "id": "x9sZWtdapwRJ",
        "colab_type": "code",
        "colab": {
          "base_uri": "https://localhost:8080/",
          "height": 51
        },
        "outputId": "8625fe4c-d1e0-41fa-ccf6-69dea670104c"
      },
      "cell_type": "code",
      "source": [
        "lnode_1=tf.constant(7,dtype=tf.float32,name='leaf_node1')\n",
        "lnode_2=tf.constant(8,dtype=tf.float32,name='leaf_node2')\n",
        "lnode_3=tf.constant(9,dtype=tf.float32,name='leaf_node3')\n",
        "lnode_4=tf.constant(10,dtype=tf.float32,name='leaf_node4')\n",
        "lnode_5=tf.constant(7,dtype=tf.float32,name='leaf_node5')\n",
        "lnode_6=tf.constant(10,dtype=tf.float32,name='leaf_node6')\n",
        "lnode_7=tf.constant(19.5,dtype=tf.float32,name='leaf_node7')\n",
        "\n",
        "cg_1=tf.add(lnode_1,lnode_2)\n",
        "cg_2=tf.add(lnode_3,lnode_4)\n",
        "cg_sub=tf.subtract(cg_1,cg_2)\n",
        "cg_3=tf.multiply(lnode_5,lnode_6)\n",
        "cg_4=tf.divide(cg_3,lnode_7)\n",
        "cg_6=tf.maximum(cg_sub,cg_4)\n",
        "print(cg_6)\n",
        "\n",
        "#alternatively\n",
        "result=tf.maximum((lnode_1+lnode_2)-(lnode_3+lnode_4),((lnode_5*lnode_6))/lnode_7)\n",
        "with tf.Session() as sess:\n",
        "  print(sess.run(result))\n"
      ],
      "execution_count": 119,
      "outputs": [
        {
          "output_type": "stream",
          "text": [
            "Tensor(\"Maximum_12:0\", shape=(), dtype=float32)\n",
            "3.5897436\n"
          ],
          "name": "stdout"
        }
      ]
    },
    {
      "metadata": {
        "id": "zrOabUc2p6gG",
        "colab_type": "code",
        "colab": {
          "base_uri": "https://localhost:8080/",
          "height": 34
        },
        "outputId": "2f224b58-34b8-4c96-d7f8-df12c96f8e49"
      },
      "cell_type": "code",
      "source": [
        "node_1=tf.constant([9,10,11],dtype=tf.float32,name='node1')\n",
        "node_2=tf.constant([7,8,6.5],dtype=tf.float32,name='node2')\n",
        "node_3=tf.constant(5.6,dtype=tf.float32,name='node3')\n",
        "node_4=tf.constant([7.65,9.0,6.75],dtype=tf.float32,name='node4')\n",
        "node_5=tf.constant([13.5,7.18,17],dtype=tf.float32,name='node5')\n",
        "\n",
        "cg=tf.minimum(((node_1*node_2)/node_3),(node_4+node_5))\n",
        "with tf.Session() as sess:\n",
        "  print(sess.run(cg))"
      ],
      "execution_count": 120,
      "outputs": [
        {
          "output_type": "stream",
          "text": [
            "[11.25     14.285714 12.767858]\n"
          ],
          "name": "stdout"
        }
      ]
    },
    {
      "metadata": {
        "id": "-Fy1Syj-t95D",
        "colab_type": "text"
      },
      "cell_type": "markdown",
      "source": [
        "Linear Regression using low level Tensorflow API's\n"
      ]
    },
    {
      "metadata": {
        "id": "zx6w13hYuCZO",
        "colab_type": "code",
        "colab": {}
      },
      "cell_type": "code",
      "source": [
        "#creating a dataset\n",
        "X= np.linspace(-30,300.0,300)\n",
        "y= 2* np.linspace(-30.0,250.0,300)+np.random.rand(*X.shape)"
      ],
      "execution_count": 0,
      "outputs": []
    },
    {
      "metadata": {
        "id": "7SNJJhqTvLdi",
        "colab_type": "code",
        "colab": {}
      },
      "cell_type": "code",
      "source": [
        "train_X=X[:250]\n",
        "train_y=y[:250]\n",
        "\n",
        "test_X=X[250 :]\n",
        "test_y=y[250 :]"
      ],
      "execution_count": 0,
      "outputs": []
    },
    {
      "metadata": {
        "id": "ojJZKZ36wDYx",
        "colab_type": "code",
        "colab": {}
      },
      "cell_type": "code",
      "source": [
        "learning_rate=0.000005\n",
        "n_epochs=1000\n",
        "interval=10"
      ],
      "execution_count": 0,
      "outputs": []
    },
    {
      "metadata": {
        "id": "5xZRSujzwTBl",
        "colab_type": "code",
        "colab": {
          "base_uri": "https://localhost:8080/",
          "height": 347
        },
        "outputId": "31aa5523-6dd6-4511-cb58-4fe07ef18955"
      },
      "cell_type": "code",
      "source": [
        "plt.plot(train_X[20:50],train_y[20:50],'g')\n",
        "plt.show()\n"
      ],
      "execution_count": 124,
      "outputs": [
        {
          "output_type": "display_data",
          "data": {
            "image/png": "[encoded data removed]",
            "text/plain": [
              "<matplotlib.figure.Figure at 0x7ff57a9122b0>"
            ]
          },
          "metadata": {
            "tags": []
          }
        }
      ]
    },
    {
      "metadata": {
        "id": "z01Ph7DGwdGa",
        "colab_type": "code",
        "colab": {}
      },
      "cell_type": "code",
      "source": [
        "#placeholders\n",
        "x=tf.placeholder(tf.float32,name='x')\n",
        "y=tf.placeholder(tf.float32,name='y')\n"
      ],
      "execution_count": 0,
      "outputs": []
    },
    {
      "metadata": {
        "id": "iOPSfF22xMbQ",
        "colab_type": "code",
        "colab": {}
      },
      "cell_type": "code",
      "source": [
        "#LR model\n",
        "w=tf.Variable(0.0,name='weight1')\n",
        "b=tf.Variable(0.0,name='bias_1')\n",
        "pred_y=(w*x)+b"
      ],
      "execution_count": 0,
      "outputs": []
    },
    {
      "metadata": {
        "id": "7tJAMcFrxjz0",
        "colab_type": "code",
        "colab": {}
      },
      "cell_type": "code",
      "source": [
        "#loss function\n",
        "loss=tf.reduce_mean(tf.square(y-pred_y))"
      ],
      "execution_count": 0,
      "outputs": []
    },
    {
      "metadata": {
        "id": "fG_oreUXxsKA",
        "colab_type": "code",
        "colab": {}
      },
      "cell_type": "code",
      "source": [
        "#optimizer\n",
        "optimizer=tf.train.GradientDescentOptimizer(learning_rate=learning_rate)\\\n",
        "                  .minimize(loss)"
      ],
      "execution_count": 0,
      "outputs": []
    },
    {
      "metadata": {
        "id": "t6APecM00BZo",
        "colab_type": "code",
        "colab": {
          "base_uri": "https://localhost:8080/",
          "height": 1734
        },
        "outputId": "5edced72-fec2-401c-d7ef-c9c40b014104"
      },
      "cell_type": "code",
      "source": [
        "with tf.Session() as sess:\n",
        "  sess.run(tf.global_variables_initializer())\n",
        "  \n",
        "  for epoch in range(n_epochs):\n",
        "    curr_loss=sess.run([optimizer,loss],feed_dict={x:train_X,y:train_y})\n",
        "    \n",
        "    if epoch%interval==0:\n",
        "      print('Loss after epoch',epoch,'is',curr_loss)\n",
        "  final_preds,final_loss=sess.run([pred_y,loss],feed_dict={x:test_X,y:test_y})\n",
        "  print('final loss is',final_loss)"
      ],
      "execution_count": 155,
      "outputs": [
        {
          "output_type": "stream",
          "text": [
            "Loss after epoch 0 is [None, 48429.184]\n",
            "Loss after epoch 10 is [None, 967.79803]\n",
            "Loss after epoch 20 is [None, 44.846695]\n",
            "Loss after epoch 30 is [None, 26.896826]\n",
            "Loss after epoch 40 is [None, 26.545923]\n",
            "Loss after epoch 50 is [None, 26.537262]\n",
            "Loss after epoch 60 is [None, 26.535248]\n",
            "Loss after epoch 70 is [None, 26.533371]\n",
            "Loss after epoch 80 is [None, 26.531492]\n",
            "Loss after epoch 90 is [None, 26.529621]\n",
            "Loss after epoch 100 is [None, 26.52778]\n",
            "Loss after epoch 110 is [None, 26.525911]\n",
            "Loss after epoch 120 is [None, 26.524036]\n",
            "Loss after epoch 130 is [None, 26.52216]\n",
            "Loss after epoch 140 is [None, 26.520283]\n",
            "Loss after epoch 150 is [None, 26.518408]\n",
            "Loss after epoch 160 is [None, 26.516531]\n",
            "Loss after epoch 170 is [None, 26.514635]\n",
            "Loss after epoch 180 is [None, 26.512768]\n",
            "Loss after epoch 190 is [None, 26.510891]\n",
            "Loss after epoch 200 is [None, 26.509018]\n",
            "Loss after epoch 210 is [None, 26.507137]\n",
            "Loss after epoch 220 is [None, 26.505262]\n",
            "Loss after epoch 230 is [None, 26.503395]\n",
            "Loss after epoch 240 is [None, 26.501518]\n",
            "Loss after epoch 250 is [None, 26.499647]\n",
            "Loss after epoch 260 is [None, 26.497776]\n",
            "Loss after epoch 270 is [None, 26.495903]\n",
            "Loss after epoch 280 is [None, 26.49403]\n",
            "Loss after epoch 290 is [None, 26.49216]\n",
            "Loss after epoch 300 is [None, 26.490276]\n",
            "Loss after epoch 310 is [None, 26.488409]\n",
            "Loss after epoch 320 is [None, 26.48653]\n",
            "Loss after epoch 330 is [None, 26.484667]\n",
            "Loss after epoch 340 is [None, 26.48279]\n",
            "Loss after epoch 350 is [None, 26.480898]\n",
            "Loss after epoch 360 is [None, 26.47903]\n",
            "Loss after epoch 370 is [None, 26.477154]\n",
            "Loss after epoch 380 is [None, 26.475285]\n",
            "Loss after epoch 390 is [None, 26.473413]\n",
            "Loss after epoch 400 is [None, 26.471535]\n",
            "Loss after epoch 410 is [None, 26.469666]\n",
            "Loss after epoch 420 is [None, 26.46779]\n",
            "Loss after epoch 430 is [None, 26.465923]\n",
            "Loss after epoch 440 is [None, 26.464052]\n",
            "Loss after epoch 450 is [None, 26.462223]\n",
            "Loss after epoch 460 is [None, 26.460354]\n",
            "Loss after epoch 470 is [None, 26.458483]\n",
            "Loss after epoch 480 is [None, 26.456608]\n",
            "Loss after epoch 490 is [None, 26.454742]\n",
            "Loss after epoch 500 is [None, 26.45287]\n",
            "Loss after epoch 510 is [None, 26.450994]\n",
            "Loss after epoch 520 is [None, 26.44913]\n",
            "Loss after epoch 530 is [None, 26.447256]\n",
            "Loss after epoch 540 is [None, 26.445381]\n",
            "Loss after epoch 550 is [None, 26.443516]\n",
            "Loss after epoch 560 is [None, 26.441648]\n",
            "Loss after epoch 570 is [None, 26.439777]\n",
            "Loss after epoch 580 is [None, 26.437891]\n",
            "Loss after epoch 590 is [None, 26.436024]\n",
            "Loss after epoch 600 is [None, 26.434155]\n",
            "Loss after epoch 610 is [None, 26.43228]\n",
            "Loss after epoch 620 is [None, 26.43041]\n",
            "Loss after epoch 630 is [None, 26.428547]\n",
            "Loss after epoch 640 is [None, 26.426683]\n",
            "Loss after epoch 650 is [None, 26.424799]\n",
            "Loss after epoch 660 is [None, 26.422935]\n",
            "Loss after epoch 670 is [None, 26.421072]\n",
            "Loss after epoch 680 is [None, 26.419205]\n",
            "Loss after epoch 690 is [None, 26.417336]\n",
            "Loss after epoch 700 is [None, 26.415468]\n",
            "Loss after epoch 710 is [None, 26.413597]\n",
            "Loss after epoch 720 is [None, 26.411732]\n",
            "Loss after epoch 730 is [None, 26.409863]\n",
            "Loss after epoch 740 is [None, 26.408]\n",
            "Loss after epoch 750 is [None, 26.406137]\n",
            "Loss after epoch 760 is [None, 26.404272]\n",
            "Loss after epoch 770 is [None, 26.402407]\n",
            "Loss after epoch 780 is [None, 26.400536]\n",
            "Loss after epoch 790 is [None, 26.398674]\n",
            "Loss after epoch 800 is [None, 26.396809]\n",
            "Loss after epoch 810 is [None, 26.394928]\n",
            "Loss after epoch 820 is [None, 26.39307]\n",
            "Loss after epoch 830 is [None, 26.391205]\n",
            "Loss after epoch 840 is [None, 26.389336]\n",
            "Loss after epoch 850 is [None, 26.387478]\n",
            "Loss after epoch 860 is [None, 26.385612]\n",
            "Loss after epoch 870 is [None, 26.38375]\n",
            "Loss after epoch 880 is [None, 26.381868]\n",
            "Loss after epoch 890 is [None, 26.380009]\n",
            "Loss after epoch 900 is [None, 26.378141]\n",
            "Loss after epoch 910 is [None, 26.376282]\n",
            "Loss after epoch 920 is [None, 26.374414]\n",
            "Loss after epoch 930 is [None, 26.37255]\n",
            "Loss after epoch 940 is [None, 26.370684]\n",
            "Loss after epoch 950 is [None, 26.368818]\n",
            "Loss after epoch 960 is [None, 26.366941]\n",
            "Loss after epoch 970 is [None, 26.36509]\n",
            "Loss after epoch 980 is [None, 26.36323]\n",
            "Loss after epoch 990 is [None, 26.361366]\n",
            "final loss is 30.599947\n"
          ],
          "name": "stdout"
        }
      ]
    },
    {
      "metadata": {
        "id": "WMiP_Neq4ged",
        "colab_type": "code",
        "colab": {
          "base_uri": "https://localhost:8080/",
          "height": 347
        },
        "outputId": "66aea8b6-21f5-4c29-e203-a5b33c192924"
      },
      "cell_type": "code",
      "source": [
        "plt.plot(test_X[:10],test_y[:10],'g',label='true function')\n",
        "plt.plot(test_X[:10],final_preds[:10],'r',label='prediction function')\n",
        "plt.legend()\n",
        "plt.show()"
      ],
      "execution_count": 156,
      "outputs": [
        {
          "output_type": "display_data",
          "data": {
            "image/png": "[encoded data removed]",
            "text/plain": [
              "<matplotlib.figure.Figure at 0x7ff57d2789e8>"
            ]
          },
          "metadata": {
            "tags": []
          }
        }
      ]
    }
  ]
}